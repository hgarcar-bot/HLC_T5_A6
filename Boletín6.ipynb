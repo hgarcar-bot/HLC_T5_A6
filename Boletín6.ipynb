{
 "cells": [
  {
   "cell_type": "code",
   "execution_count": 7,
   "id": "b0ad1d97-5b14-4452-8c0b-2fd4b246e62b",
   "metadata": {},
   "outputs": [
    {
     "data": {
      "text/plain": [
       "12"
      ]
     },
     "execution_count": 7,
     "metadata": {},
     "output_type": "execute_result"
    }
   ],
   "source": [
    "#Ejercicio 1\n",
    "def suma_de_numeros_pares(lista): \n",
    "       suma = 0 \n",
    "       for elemento in lista: \n",
    "              if elemento % 2 == 0: \n",
    "                   suma += elemento \n",
    "       return suma\n",
    "\n",
    "suma_de_numeros_pares([1,2,3,4,5,6])"
   ]
  },
  {
   "cell_type": "code",
   "execution_count": 1,
   "id": "21d7c322",
   "metadata": {},
   "outputs": [
    {
     "data": {
      "text/plain": [
       "'A5evck1G'"
      ]
     },
     "execution_count": 1,
     "metadata": {},
     "output_type": "execute_result"
    }
   ],
   "source": [
    "#Ejercicio 2\n",
    "import random\n",
    "\n",
    "def generar_contraseña(longitud):\n",
    "    caracteres = \"abcdefghijklmnopqrstuvwxyzABCDEFGHIJKLMNOPQRSTUVWXYZ0123456789!@#$%^&*()_+\"\n",
    "    contraseña = ''.join(caracteres[random.randint(0, len(caracteres) - 1)] for _ in range(longitud))\n",
    "    \n",
    "    return contraseña\n",
    "\n",
    "longitud = 8\n",
    "generar_contraseña(longitud)"
   ]
  },
  {
   "cell_type": "code",
   "execution_count": 4,
   "id": "05944ecf",
   "metadata": {},
   "outputs": [
    {
     "data": {
      "text/plain": [
       "'CXCIII'"
      ]
     },
     "execution_count": 4,
     "metadata": {},
     "output_type": "execute_result"
    }
   ],
   "source": [
    "#Ejercicio 3\n",
    "def romano(numero):\n",
    "    valores = [\n",
    "        (1000, 'M'), (900, 'CM'), (500, 'D'), (400, 'CD'),\n",
    "        (100, 'C'), (90, 'XC'), (50, 'L'), (40, 'XL'),\n",
    "        (10, 'X'), (9, 'IX'), (5, 'V'), (4, 'IV'), (1, 'I')\n",
    "    ]\n",
    "    resultado = \"\"\n",
    "    for valor, simbolo in valores:\n",
    "        while numero >= valor:\n",
    "            resultado += simbolo\n",
    "            numero -= valor\n",
    "    return resultado\n",
    "\n",
    "numero_decimal = 193\n",
    "romano(numero_decimal)"
   ]
  },
  {
   "cell_type": "code",
   "execution_count": 5,
   "id": "0369de40-f35a-4d3c-a63a-19c22343a0f5",
   "metadata": {},
   "outputs": [
    {
     "data": {
      "text/plain": [
       "True"
      ]
     },
     "execution_count": 5,
     "metadata": {},
     "output_type": "execute_result"
    }
   ],
   "source": [
    "#Ejercicio 4\n",
    "def palabra_palindroma(texto):\n",
    "    if len(texto) <= 1:\n",
    "        return True\n",
    "    if texto[0] != texto[-1]:\n",
    "        return False\n",
    "    return palabra_palindroma(texto[1:-1])\n",
    "\n",
    "cadena = \"reconocer\"\n",
    "palabra_palindroma(cadena)"
   ]
  },
  {
   "cell_type": "code",
   "execution_count": 6,
   "id": "30c497b6-9946-4142-ad23-24f38f7c29eb",
   "metadata": {},
   "outputs": [
    {
     "data": {
      "text/plain": [
       "[11, 64, 34, 12, 25, 22, 90]"
      ]
     },
     "execution_count": 6,
     "metadata": {},
     "output_type": "execute_result"
    }
   ],
   "source": [
    "#Ejercicio 5\n",
    "def bubble_sort(lista):\n",
    "    n = len(lista)\n",
    "    for i in range(n):\n",
    "        for a in range(0, n-i-1):\n",
    "            if lista[i] > lista[a+1]:\n",
    "                lista[i], lista[a+1] = lista[a+1], lista[i]\n",
    "    return lista\n",
    "\n",
    "lista_numeros = [64, 34, 25, 12, 22, 11, 90]\n",
    "bubble_sort(lista_numeros)"
   ]
  },
  {
   "cell_type": "code",
   "execution_count": 7,
   "id": "c4c6ca8b-5c76-45dc-8e7b-0b905d6c1212",
   "metadata": {},
   "outputs": [
    {
     "name": "stdout",
     "output_type": "stream",
     "text": [
      "[1, 4, 6, 8]\n"
     ]
    }
   ],
   "source": [
    "#Ejercicio 6\n",
    "def bubble_sort(lista):\n",
    "    n = len(lista)\n",
    "    for i in range(n):\n",
    "        for j in range(n-1-i):\n",
    "            if lista[j] > lista[j+1]:\n",
    "                lista[j], lista[j+1] = lista[j+1], lista[j]\n",
    "    return lista\n",
    "lista_ordenada = bubble_sort([8,6,1,4])\n",
    "print(lista_ordenada)"
   ]
  }
 ],
 "metadata": {
  "kernelspec": {
   "display_name": "Python 3 (ipykernel)",
   "language": "python",
   "name": "python3"
  },
  "language_info": {
   "codemirror_mode": {
    "name": "ipython",
    "version": 3
   },
   "file_extension": ".py",
   "mimetype": "text/x-python",
   "name": "python",
   "nbconvert_exporter": "python",
   "pygments_lexer": "ipython3",
   "version": "3.13.0"
  }
 },
 "nbformat": 4,
 "nbformat_minor": 5
}
